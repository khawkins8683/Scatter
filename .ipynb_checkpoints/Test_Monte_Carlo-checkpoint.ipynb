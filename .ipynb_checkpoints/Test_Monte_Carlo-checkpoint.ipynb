{
 "cells": [
  {
   "cell_type": "code",
   "execution_count": 1,
   "id": "fb3b16b4-c910-43af-909c-2e0b9fcee7b3",
   "metadata": {},
   "outputs": [],
   "source": [
    "import numpy as np\n",
    "from Code import utility as u\n",
    "from Code import ray as r\n",
    "from Code import material as m\n",
    "from Code import monte_carlo as mc"
   ]
  },
  {
   "cell_type": "code",
   "execution_count": 48,
   "id": "7bb0f66c-c325-4a34-a6bd-e63d4eafd6a2",
   "metadata": {},
   "outputs": [],
   "source": [
    "air = m.Material(1.0,0,{'mean':100000})\n",
    "glass = m.Material(1.5+1E-7*1j,  70E-7,{'mean':2.5E-6})\n",
    "ray = r.Ray(u.normalize([0,0,1]),  np.array([0,0,0]), 0.5 )"
   ]
  },
  {
   "cell_type": "code",
   "execution_count": 49,
   "id": "4ee834b7-1801-44b3-96d7-47d1c22d6e8a",
   "metadata": {},
   "outputs": [],
   "source": [
    "rayPath = mc.MonteCarloTrace(ray, air,glass, debug= False)"
   ]
  },
  {
   "cell_type": "code",
   "execution_count": 53,
   "id": "af3c5715-5739-44eb-a8ee-c3b372c4df56",
   "metadata": {},
   "outputs": [
    {
     "data": {
      "text/plain": [
       "0.9998713892999792"
      ]
     },
     "execution_count": 53,
     "metadata": {},
     "output_type": "execute_result"
    }
   ],
   "source": [
    "rayPath.transmissionCumulative()"
   ]
  },
  {
   "cell_type": "code",
   "execution_count": 51,
   "id": "5366e4c1-17c8-400c-820d-a8f92b9a55b3",
   "metadata": {},
   "outputs": [
    {
     "data": {
      "text/plain": [
       "56"
      ]
     },
     "execution_count": 51,
     "metadata": {},
     "output_type": "execute_result"
    }
   ],
   "source": [
    "len(rayPath.transmission)"
   ]
  },
  {
   "cell_type": "code",
   "execution_count": null,
   "id": "9b170f4e-d62c-45da-8c23-a52e8f9c8192",
   "metadata": {},
   "outputs": [],
   "source": []
  }
 ],
 "metadata": {
  "kernelspec": {
   "display_name": "Python 3 (ipykernel)",
   "language": "python",
   "name": "python3"
  },
  "language_info": {
   "codemirror_mode": {
    "name": "ipython",
    "version": 3
   },
   "file_extension": ".py",
   "mimetype": "text/x-python",
   "name": "python",
   "nbconvert_exporter": "python",
   "pygments_lexer": "ipython3",
   "version": "3.11.8"
  }
 },
 "nbformat": 4,
 "nbformat_minor": 5
}
