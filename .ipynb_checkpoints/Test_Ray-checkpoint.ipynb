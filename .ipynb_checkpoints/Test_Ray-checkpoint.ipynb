{
 "cells": [
  {
   "cell_type": "code",
   "execution_count": 1,
   "id": "319cad72-a7c5-4509-ae86-898d0020b11b",
   "metadata": {},
   "outputs": [],
   "source": [
    "import numpy as np\n",
    "from Code import utility as u\n",
    "from Code import ray as r\n",
    "from Code import material as m"
   ]
  },
  {
   "cell_type": "markdown",
   "id": "a5e850c2-7a48-4352-b276-e860d6ce42f2",
   "metadata": {},
   "source": [
    "### Single Interation Tests"
   ]
  },
  {
   "cell_type": "code",
   "execution_count": 2,
   "id": "272da950-5c07-437d-844f-0a21c48c483e",
   "metadata": {},
   "outputs": [
    {
     "data": {
      "text/plain": [
       "array([0.        , 0.70710678, 0.70710678])"
      ]
     },
     "execution_count": 2,
     "metadata": {},
     "output_type": "execute_result"
    }
   ],
   "source": [
    "air = m.Material(1.0,0,{'mean':100000})\n",
    "glass = m.Material(1.5,70E-6,{'mean':2.5E-7})\n",
    "ray = r.Ray(u.normalize([0,1,1]),  np.array([0,0,0]), 0.5 )\n",
    "ray.k"
   ]
  },
  {
   "cell_type": "code",
   "execution_count": 3,
   "id": "d0f541eb-a88f-4145-a593-fab7d13673e9",
   "metadata": {},
   "outputs": [
    {
     "data": {
      "text/plain": [
       "True"
      ]
     },
     "execution_count": 3,
     "metadata": {},
     "output_type": "execute_result"
    }
   ],
   "source": [
    "ray.TIRQ([0,0,1],mat)"
   ]
  },
  {
   "cell_type": "code",
   "execution_count": 4,
   "id": "832e9a71-becc-414a-9979-51d3454de74d",
   "metadata": {},
   "outputs": [
    {
     "data": {
      "text/plain": [
       "array([ 0.        ,  0.70710678, -0.70710678])"
      ]
     },
     "execution_count": 4,
     "metadata": {},
     "output_type": "execute_result"
    }
   ],
   "source": [
    "#should undergo TIR - k with negative z value\n",
    "ray.refract(np.array([0,0,1]),mat)"
   ]
  },
  {
   "cell_type": "code",
   "execution_count": 14,
   "id": "e662a586-4959-45fc-9e02-ec9c3efa7f28",
   "metadata": {},
   "outputs": [
    {
     "data": {
      "text/plain": [
       "array([-0.        ,  0.97625611,  0.21661952])"
      ]
     },
     "execution_count": 14,
     "metadata": {},
     "output_type": "execute_result"
    }
   ],
   "source": [
    "#should NOT undergo TIR\n",
    "ray.refract(u.normalize([0,.1,1]),mat)"
   ]
  },
  {
   "cell_type": "code",
   "execution_count": 13,
   "id": "d4d0271c-5f00-4d7a-a9bc-72c0fa6a88f9",
   "metadata": {},
   "outputs": [
    {
     "name": "stdout",
     "output_type": "stream",
     "text": [
      "[0.         0.09950372 0.99503719]\n"
     ]
    },
    {
     "data": {
      "text/plain": [
       "array([-0.        ,  0.14925558,  0.98879865])"
      ]
     },
     "execution_count": 13,
     "metadata": {},
     "output_type": "execute_result"
    }
   ],
   "source": [
    "print(u.normalize([0,0.1,1]))\n",
    "u.Refract3D(1.5,1.0,u.normalize([0,0,1]),u.normalize([0,0.1,1]))"
   ]
  },
  {
   "cell_type": "markdown",
   "id": "dc8f70a7-1325-42da-b3c1-ab11d083ed8b",
   "metadata": {},
   "source": [
    "## Cumulative Parameter Check"
   ]
  },
  {
   "cell_type": "code",
   "execution_count": 15,
   "id": "733bdf8a-f630-456d-bbd5-69cbaac2bda5",
   "metadata": {},
   "outputs": [
    {
     "data": {
      "text/plain": [
       "-1j"
      ]
     },
     "execution_count": 15,
     "metadata": {},
     "output_type": "execute_result"
    }
   ],
   "source": [
    "np.conj(1j)"
   ]
  },
  {
   "cell_type": "code",
   "execution_count": 19,
   "id": "47b383b8-a028-4190-b7b4-58b50ee60e89",
   "metadata": {},
   "outputs": [
    {
     "data": {
      "text/plain": [
       "array([[1., 0.],\n",
       "       [0., 1.]])"
      ]
     },
     "execution_count": 19,
     "metadata": {},
     "output_type": "execute_result"
    }
   ],
   "source": [
    "np.linalg.inv(np.identity(2))"
   ]
  },
  {
   "cell_type": "code",
   "execution_count": null,
   "id": "cbc9a475-3a50-4bc7-8e67-d644a1dc1674",
   "metadata": {},
   "outputs": [],
   "source": []
  }
 ],
 "metadata": {
  "kernelspec": {
   "display_name": "Python 3 (ipykernel)",
   "language": "python",
   "name": "python3"
  },
  "language_info": {
   "codemirror_mode": {
    "name": "ipython",
    "version": 3
   },
   "file_extension": ".py",
   "mimetype": "text/x-python",
   "name": "python",
   "nbconvert_exporter": "python",
   "pygments_lexer": "ipython3",
   "version": "3.11.8"
  }
 },
 "nbformat": 4,
 "nbformat_minor": 5
}
