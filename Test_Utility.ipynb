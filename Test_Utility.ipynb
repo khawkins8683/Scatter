{
 "cells": [
  {
   "cell_type": "code",
   "execution_count": 14,
   "id": "6588bf6c-11da-4a35-b7e2-118b27f87bfb",
   "metadata": {},
   "outputs": [],
   "source": [
    "import numpy as np\n",
    "from Code import utility as u"
   ]
  },
  {
   "cell_type": "markdown",
   "id": "19c8778f-9df1-4339-bae9-c7365bfc5b1c",
   "metadata": {},
   "source": [
    "## Matrix Utility"
   ]
  },
  {
   "cell_type": "code",
   "execution_count": 23,
   "id": "25a73d14-7cc7-4ee6-a024-9ae463f6e347",
   "metadata": {},
   "outputs": [
    {
     "name": "stdout",
     "output_type": "stream",
     "text": [
      "[0. 0. 1.]\n",
      "[0.70710678 0.         0.70710678]\n"
     ]
    }
   ],
   "source": [
    "z = u.normalize([0,0,1])\n",
    "x = np.array([1,0,0])\n",
    "print(z)\n",
    "xz = u.normalize([1,0,1])\n",
    "print(xz)"
   ]
  },
  {
   "cell_type": "markdown",
   "id": "4a8871db-8548-49d3-ba9c-8777239ab047",
   "metadata": {
    "jp-MarkdownHeadingCollapsed": true
   },
   "source": [
    "### SP Basis"
   ]
  },
  {
   "cell_type": "code",
   "execution_count": 15,
   "id": "9dba993d-8fcb-4276-8d4f-33c3b497462a",
   "metadata": {},
   "outputs": [
    {
     "name": "stdout",
     "output_type": "stream",
     "text": [
      "[[ 1.  0. -0.]\n",
      " [-0.  1.  0.]\n",
      " [ 0.  0.  1.]]\n"
     ]
    }
   ],
   "source": [
    "[s,p,k] = u.CreateSP( z , z)\n",
    "print(np.array([s,p,k]))"
   ]
  },
  {
   "cell_type": "code",
   "execution_count": 16,
   "id": "d5c5f2e4-cd97-4d79-ad70-a4b9354c6343",
   "metadata": {},
   "outputs": [
    {
     "name": "stdout",
     "output_type": "stream",
     "text": [
      "[[ 0.         -1.          0.        ]\n",
      " [ 0.70710678  0.         -0.70710678]\n",
      " [ 0.70710678  0.          0.70710678]]\n"
     ]
    }
   ],
   "source": [
    "[s,p,k] = u.CreateSP( z , xz)\n",
    "print(np.array([s,p,k]))"
   ]
  },
  {
   "cell_type": "markdown",
   "id": "cdb27484-4e6c-49df-a6b2-28a4b4241fb1",
   "metadata": {},
   "source": [
    "### Rotation Matrix"
   ]
  },
  {
   "cell_type": "code",
   "execution_count": 20,
   "id": "f6c93e71-172b-452a-9c83-fc557340c983",
   "metadata": {},
   "outputs": [
    {
     "data": {
      "text/plain": [
       "array([0.00000000e+00, 0.00000000e+00, 2.22044605e-16])"
      ]
     },
     "execution_count": 20,
     "metadata": {},
     "output_type": "execute_result"
    }
   ],
   "source": [
    "RotM = u.RotationMatrix(z,xz)\n",
    "RotM.dot(z) - xz"
   ]
  },
  {
   "cell_type": "markdown",
   "id": "4de3e5aa-0679-4639-8a16-8ea3e798d662",
   "metadata": {
    "jp-MarkdownHeadingCollapsed": true
   },
   "source": [
    "### PRT Test"
   ]
  },
  {
   "cell_type": "code",
   "execution_count": 36,
   "id": "98282b32-f2e1-404f-bf68-e7d6015c7f5f",
   "metadata": {},
   "outputs": [
    {
     "name": "stdout",
     "output_type": "stream",
     "text": [
      "[[1.+0.j 0.+0.j 0.+0.j]\n",
      " [0.+0.j 0.+1.j 0.+0.j]\n",
      " [0.+0.j 0.+0.j 1.+0.j]]\n"
     ]
    }
   ],
   "source": [
    "# simple test\n",
    "jm = np.array([[1,0],[0,1j]])\n",
    "eta = z;kin = z;kout = z\n",
    "\n",
    "prt = u.PRT(jm, eta, kin, kout)\n",
    "print(prt)"
   ]
  },
  {
   "cell_type": "code",
   "execution_count": 39,
   "id": "4c975ff6-fae5-428f-899f-a78edcd7093b",
   "metadata": {},
   "outputs": [
    {
     "name": "stdout",
     "output_type": "stream",
     "text": [
      "[0.        +0.j 0.70710678+0.j 0.70710678+0.j]\n"
     ]
    }
   ],
   "source": [
    "# k test\n",
    "jm = np.array([[1,0],[0,1j]])\n",
    "eta = z;kin = z;\n",
    "kout = u.normalize([0,1,1])\n",
    "\n",
    "prt = u.PRT(jm, eta, kin, kout)\n",
    "kOut = prt.dot(kin);\n",
    "print(kOut)"
   ]
  },
  {
   "cell_type": "code",
   "execution_count": 42,
   "id": "813ecbd7-5f64-4d32-bec5-fdb7426a30ed",
   "metadata": {},
   "outputs": [
    {
     "name": "stdout",
     "output_type": "stream",
     "text": [
      "[0.        +0.j 0.70710678+0.j 0.70710678+0.j]\n"
     ]
    }
   ],
   "source": [
    "# k test 2 \n",
    "jm = np.array([[1,0],[0,1j]])\n",
    "eta = u.normalize([0,1,1])\n",
    "kin = eta\n",
    "kout = u.normalize([0,1,1])\n",
    "\n",
    "prt = u.PRT(jm, eta, kin, kout)\n",
    "kOut = prt.dot(kin);\n",
    "print(kOut)"
   ]
  },
  {
   "cell_type": "code",
   "execution_count": 43,
   "id": "c94c3496-c6be-46c4-91f4-4d31a8b3cb10",
   "metadata": {},
   "outputs": [
    {
     "name": "stdout",
     "output_type": "stream",
     "text": [
      "[[ 0.70710678+0.j          0.        +0.5j         0.        -0.5j       ]\n",
      " [ 0.        +0.70710678j  0.5       +0.j         -0.5       +0.j        ]\n",
      " [ 0.        +0.j          0.70710678+0.j          0.70710678+0.j        ]]\n",
      "[0.70710678+0.j         0.        +0.70710678j 0.        +0.j        ]\n"
     ]
    }
   ],
   "source": [
    "# x test 1 \n",
    "jm = (1/np.sqrt(2))*np.array([[1,1j],[1j,1]])\n",
    "eta = u.normalize([0,0,1])\n",
    "kin = u.normalize([0,1,1])\n",
    "kout = eta\n",
    "\n",
    "prt = u.PRT(jm, eta, kin, kout)\n",
    "kOut = prt.dot([1,0,0]);\n",
    "print(prt)\n",
    "print(kOut)"
   ]
  },
  {
   "cell_type": "markdown",
   "id": "b1070e42-59f3-43cf-a6e6-403f8a19782f",
   "metadata": {
    "jp-MarkdownHeadingCollapsed": true
   },
   "source": [
    "## KVector Tests"
   ]
  },
  {
   "cell_type": "code",
   "execution_count": 27,
   "id": "6410717e-0de5-42d0-ac9b-0d05c7033875",
   "metadata": {},
   "outputs": [
    {
     "data": {
      "text/plain": [
       "array([ 0.70710678,  0.        , -0.70710678])"
      ]
     },
     "execution_count": 27,
     "metadata": {},
     "output_type": "execute_result"
    }
   ],
   "source": [
    "u.KScatter(x, 45*u.deg, 0 )"
   ]
  },
  {
   "cell_type": "code",
   "execution_count": 28,
   "id": "48787447-be97-4fc9-bcda-036e31bd5a92",
   "metadata": {},
   "outputs": [
    {
     "data": {
      "text/plain": [
       "array([ 7.07106781e-01,  7.07106781e-01, -2.51206059e-33])"
      ]
     },
     "execution_count": 28,
     "metadata": {},
     "output_type": "execute_result"
    }
   ],
   "source": [
    "u.KScatter(x, 45*u.deg, 90*u.deg)"
   ]
  },
  {
   "cell_type": "code",
   "execution_count": 31,
   "id": "407eff1a-d106-49ea-bfb5-aadeb21de4a5",
   "metadata": {},
   "outputs": [
    {
     "data": {
      "text/plain": [
       "True"
      ]
     },
     "execution_count": 31,
     "metadata": {},
     "output_type": "execute_result"
    }
   ],
   "source": [
    "u.TIRCheck(1.5,1.0, z , u.normalize([0,1,1])  )"
   ]
  },
  {
   "cell_type": "code",
   "execution_count": 32,
   "id": "dcf48f4c-5dea-4265-9e5c-2b685336dcb2",
   "metadata": {},
   "outputs": [
    {
     "data": {
      "text/plain": [
       "False"
      ]
     },
     "execution_count": 32,
     "metadata": {},
     "output_type": "execute_result"
    }
   ],
   "source": [
    "u.TIRCheck(1.5,1.0, z , u.normalize([0,.1,1])  )"
   ]
  },
  {
   "cell_type": "code",
   "execution_count": null,
   "id": "fc512fc5-75f5-44e4-b0e1-c7df0229e6e9",
   "metadata": {},
   "outputs": [],
   "source": []
  }
 ],
 "metadata": {
  "kernelspec": {
   "display_name": "Python 3 (ipykernel)",
   "language": "python",
   "name": "python3"
  },
  "language_info": {
   "codemirror_mode": {
    "name": "ipython",
    "version": 3
   },
   "file_extension": ".py",
   "mimetype": "text/x-python",
   "name": "python",
   "nbconvert_exporter": "python",
   "pygments_lexer": "ipython3",
   "version": "3.11.7"
  }
 },
 "nbformat": 4,
 "nbformat_minor": 5
}
